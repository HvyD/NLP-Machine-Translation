{
 "cells": [
  {
   "cell_type": "markdown",
   "metadata": {
    "collapsed": true
   },
   "source": [
    "# Artificial Intelligence Nanodegree\n",
    "## Machine Translation Project\n",
    "In this notebook, sections that end with **'(IMPLEMENTATION)'** in the header indicate that the following blocks of code will require additional functionality which you must provide. Please be sure to read the instructions carefully!\n",
    "\n",
    "## Introduction\n",
    "In this notebook, you will build a deep neural network that functions as part of an end-to-end machine translation pipeline. Your completed pipeline will accept English text as input and return the French translation.\n",
    "\n",
    "- **Preprocess** - You'll convert text to sequence of integers.\n",
    "- **Models** Create models which accepts a sequence of integers as input and returns a probability distribution over possible translations. After learning about the basic types of neural networks that are often used for machine translation, you will engage in your own investigations, to design your own model!\n",
    "- **Prediction** Run the model on English text.\n",
    "\n",
    "## Dataset\n",
    "We begin by investigating the dataset that will be used to train and evaluate your pipeline.  The most common datasets used for machine translation are from [WMT](http://www.statmt.org/).  However, that will take a long time to train a neural network on.  We'll be using a dataset we created for this project that contains a small vocabulary.  You'll be able to train your model in a reasonable time with this dataset.\n",
    "### Load Data\n",
    "The data is located in `data/small_vocab_en` and `data/small_vocab_fr`. The `small_vocab_en` file contains English sentences with their French translations in the `small_vocab_fr` file. Load the English and French data from these files from running the cell below."
   ]
  },
  {
   "cell_type": "code",
   "execution_count": 1,
   "metadata": {
    "collapsed": false
   },
   "outputs": [
    {
     "name": "stdout",
     "output_type": "stream",
     "text": [
      "TensorFlow Version: 1.1.0\n",
      "Default GPU Device: /gpu:0\n"
     ]
    }
   ],
   "source": [
    "\n",
    "\"\"\"\n",
    "THIS IS AN ADDED CELL FOR MAINTENANCE PURPOSES\n",
    "THIS CHECK SOLVES \"InvalidArgumentError\" \n",
    "WHEN GPU AND UPDATED VERSION OF TENSORFLOW IS PRESENT!!!\n",
    "\"\"\"\n",
    "###Verifying AWS is using GPU and not CPU\n",
    "\n",
    "from distutils.version import LooseVersion\n",
    "import warnings\n",
    "import tensorflow as tf\n",
    "\n",
    "# Check TensorFlow Version\n",
    "assert LooseVersion(tf.__version__) >= LooseVersion('1.0'), \n",
    "print('TensorFlow Version: {}'.format(tf.__version__))\n",
    "\n",
    "# Check for a GPU\n",
    "if not tf.test.gpu_device_name():\n",
    "    warnings.warn('No GPU found. Please use a GPU to train your neural network.')\n",
    "else:\n",
    "    print('Default GPU Device: {}'.format(tf.test.gpu_device_name()))\n"
   ]
  },
  {
   "cell_type": "code",
   "execution_count": 2,
   "metadata": {
    "collapsed": false
   },
   "outputs": [
    {
     "name": "stdout",
     "output_type": "stream",
     "text": [
      "Dataset Loaded\n"
     ]
    }
   ],
   "source": [
    "import helper\n",
    "\n",
    "# Load English data\n",
    "english_sentences = helper.load_data('small_vocab_en')\n",
    "# Load French data\n",
    "french_sentences = helper.load_data('small_vocab_fr')\n",
    "\n",
    "print('Dataset Loaded')"
   ]
  },
  {
   "cell_type": "markdown",
   "metadata": {},
   "source": [
    "### Files\n",
    "Each line in `small_vocab_en` contains an English sentence with the respective translation in each line of `small_vocab_fr`.  View the first two lines from each file."
   ]
  },
  {
   "cell_type": "code",
   "execution_count": 3,
   "metadata": {
    "collapsed": false
   },
   "outputs": [
    {
     "name": "stdout",
     "output_type": "stream",
     "text": [
      "small_vocab_en Line 1:  new jersey is sometimes quiet during autumn , and it is snowy in april .\n",
      "small_vocab_fr Line 1:  new jersey est parfois calme pendant l' automne , et il est neigeux en avril .\n",
      "small_vocab_en Line 2:  the united states is usually chilly during july , and it is usually freezing in november .\n",
      "small_vocab_fr Line 2:  les états-unis est généralement froid en juillet , et il gèle habituellement en novembre .\n"
     ]
    }
   ],
   "source": [
    "for sample_i in range(2):\n",
    "    print('small_vocab_en Line {}:  {}'.format(sample_i + 1, english_sentences[sample_i]))\n",
    "    print('small_vocab_fr Line {}:  {}'.format(sample_i + 1, french_sentences[sample_i]))"
   ]
  },
  {
   "cell_type": "markdown",
   "metadata": {},
   "source": [
    "From looking at the sentences, you can see they have been preprocessed already.  The puncuations have been delimited using spaces. All the text have been converted to lowercase.  This should save you some time, but the text requires more preprocessing.\n",
    "### Vocabulary\n",
    "The complexity of the problem is determined by the complexity of the vocabulary.  A more complex vocabulary is a more complex problem.  Let's look at the complexity of the dataset we'll be working with."
   ]
  },
  {
   "cell_type": "code",
   "execution_count": 4,
   "metadata": {
    "collapsed": false,
    "scrolled": true
   },
   "outputs": [
    {
     "name": "stdout",
     "output_type": "stream",
     "text": [
      "1823250 English words.\n",
      "227 unique English words.\n",
      "10 Most common words in the English dataset:\n",
      "\"is\" \",\" \".\" \"in\" \"it\" \"during\" \"the\" \"but\" \"and\" \"sometimes\"\n",
      "\n",
      "1961295 French words.\n",
      "355 unique French words.\n",
      "10 Most common words in the French dataset:\n",
      "\"est\" \".\" \",\" \"en\" \"il\" \"les\" \"mais\" \"et\" \"la\" \"parfois\"\n"
     ]
    }
   ],
   "source": [
    "import collections\n",
    "\n",
    "english_words_counter = collections.Counter([word for sentence in english_sentences for word in sentence.split()])\n",
    "french_words_counter = collections.Counter([word for sentence in french_sentences for word in sentence.split()])\n",
    "\n",
    "print('{} English words.'.format(len([word for sentence in english_sentences for word in sentence.split()])))\n",
    "print('{} unique English words.'.format(len(english_words_counter)))\n",
    "print('10 Most common words in the English dataset:')\n",
    "print('\"' + '\" \"'.join(list(zip(*english_words_counter.most_common(10)))[0]) + '\"')\n",
    "print()\n",
    "print('{} French words.'.format(len([word for sentence in french_sentences for word in sentence.split()])))\n",
    "print('{} unique French words.'.format(len(french_words_counter)))\n",
    "print('10 Most common words in the French dataset:')\n",
    "print('\"' + '\" \"'.join(list(zip(*french_words_counter.most_common(10)))[0]) + '\"')"
   ]
  },
  {
   "cell_type": "markdown",
   "metadata": {},
   "source": [
    "For comparison, _Alice's Adventures in Wonderland_ contains 2,766 unique words of a total of 15,500 words.\n",
    "## Preprocess\n",
    "In order for a Neural Network to understand its text Data Input and make Predictions, we first convert Text into Sequences of Integers, then add Padding using these pre-processing methods:\n",
    "1. Tokenize the Words into IDs\n",
    "    - Text data like \"dog\" is a Sequence of ASCII character encodings. Neural Networks are a series of Multiplication and Addition operations, so Input Data must be number(s).\n",
    "2. Add Padding (converts all Sequences to same length).\n",
    "\n",
    "Note: Text data is NOT used as Input to the Model\n",
    "\n",
    "- Character IDs Definition - Convert each character into number. Used for character level models that generate text predictions for each character \n",
    "- Word ID Definition - convert each word into number. Word Level Models uses Word IDs that generate text predictions for each word. Word Level Models are lower complexity so tend to learn better.\n",
    "\n",
    "### Tokenize (IMPLEMENTATION)\n",
    "\n",
    "We will use Word Level Models and convert each sentence into a Sequence of Words IDs using Keras's [`Tokenizer`](https://keras.io/preprocessing/text/#tokenizer) function to tokenize `english_sentences` and `french_sentences` below.\n",
    "\n",
    "Running the cell will run `tokenize` on sample data and show output for debugging."
   ]
  },
  {
   "cell_type": "code",
   "execution_count": 5,
   "metadata": {
    "collapsed": false
   },
   "outputs": [
    {
     "name": "stderr",
     "output_type": "stream",
     "text": [
      "Using TensorFlow backend.\n"
     ]
    },
    {
     "name": "stdout",
     "output_type": "stream",
     "text": [
      "{'my': 12, 'quick': 2, 'jove': 11, 'jumps': 6, 'over': 7, 'short': 20, 'of': 14, 'by': 10, 'brown': 4, 'study': 13, 'the': 1, 'this': 18, 'lexicography': 15, 'lazy': 8, 'fox': 5, 'sentence': 21, 'dog': 9, 'won': 16, 'a': 3, 'is': 19, 'prize': 17}\n",
      "\n",
      "Sequence 1 from given Sentences\n",
      "  Input:  The quick brown fox jumps over the lazy dog .\n",
      "  Output: [1, 2, 4, 5, 6, 7, 1, 8, 9]\n",
      "Sequence 2 from given Sentences\n",
      "  Input:  By Jove , my quick study of lexicography won a prize .\n",
      "  Output: [10, 11, 12, 2, 13, 14, 15, 16, 3, 17]\n",
      "Sequence 3 from given Sentences\n",
      "  Input:  This is a short sentence .\n",
      "  Output: [18, 19, 3, 20, 21]\n"
     ]
    }
   ],
   "source": [
    "import project_tests as tests\n",
    "from keras.preprocessing.text import Tokenizer\n",
    "\n",
    "\n",
    "def tokenize(text_sentences):\n",
    "    \"\"\"\n",
    "    Tokenize sentences\n",
    "    :param sentences: List of sentences/strings to be tokenized\n",
    "    :return: Tuple of (tokenized sentences data, tokenizer used to tokenize sentences)\n",
    "    \"\"\"\n",
    "    sentence_lengths = []\n",
    "    for sentence in text_sentences:\n",
    "        sentence_lengths.append(len(set(sentence.split())))\n",
    "    max_sentence_length = max(sentence_lengths)\n",
    "\n",
    "    # instance of tokenizer to prepare text for use in Neural Network models\n",
    "    tokenizer = Tokenizer()\n",
    "    # list of input texts for training phase to train on\n",
    "    tokenizer.fit_on_texts(text_sentences)\n",
    "\n",
    "    # list of sequences per input text\n",
    "    tokenized_data = tokenizer.texts_to_sequences(text_sentences)\n",
    "\n",
    "    return tokenized_data, tokenizer\n",
    "\n",
    "tests.test_tokenize(tokenize)\n",
    "\n",
    "# Tokenize Example output\n",
    "text_sentences = [\n",
    "    'The quick brown fox jumps over the lazy dog .',\n",
    "    'By Jove , my quick study of lexicography won a prize .',\n",
    "    'This is a short sentence .']\n",
    "text_tokenized_sequences, text_tokenizer = tokenize(text_sentences)\n",
    "print(text_tokenizer.word_index)\n",
    "print()\n",
    "for sample_i, (sent, token_sent) in enumerate(zip(text_sentences, text_tokenized_sequences)):\n",
    "    print('Sequence {} from given Sentences'.format(sample_i + 1))\n",
    "    print('  Input:  {}'.format(sent))\n",
    "    print('  Output: {}'.format(token_sent))"
   ]
  },
  {
   "cell_type": "markdown",
   "metadata": {},
   "source": [
    "### Padding (IMPLEMENTATION)\n",
    "When Batching the Sequence of Word IDs together, each Sequence must be same length.  Since sentences are dynamic in length, we can add Padding to the end of the sequences to make them the same length.\n",
    "\n",
    "Make sure all the English sequences have the same length and all the French sequences have the same length by adding padding to the **end** of each sequence using Keras's [`pad_sequences`](https://keras.io/preprocessing/sequence/#pad_sequences) function."
   ]
  },
  {
   "cell_type": "code",
   "execution_count": 6,
   "metadata": {
    "collapsed": false
   },
   "outputs": [
    {
     "name": "stdout",
     "output_type": "stream",
     "text": [
      "Sequence 1 in text_tokenized_sequences\n",
      "  Input:  [1 2 4 5 6 7 1 8 9]\n",
      "  Output: [1 2 4 5 6 7 1 8 9 0]\n",
      "Sequence 2 in text_tokenized_sequences\n",
      "  Input:  [10 11 12  2 13 14 15 16  3 17]\n",
      "  Output: [10 11 12  2 13 14 15 16  3 17]\n",
      "Sequence 3 in text_tokenized_sequences\n",
      "  Input:  [18 19  3 20 21]\n",
      "  Output: [18 19  3 20 21  0  0  0  0  0]\n"
     ]
    }
   ],
   "source": [
    "import numpy as np\n",
    "from keras.preprocessing.sequence import pad_sequences\n",
    "\n",
    "\n",
    "def pad(text_tokenized_sequences, length=None):\n",
    "    \"\"\"\n",
    "    Pad text_tokenized_sequences\n",
    "    :param text_tokenized_sequences: List of sequences.\n",
    "    :param length: Length to pad the sequence to.  \n",
    "      If None, use length of longest sequence in text_tokenized_sequences.\n",
    "    :return: Padded numpy array of sequences\n",
    "    \"\"\"\n",
    "    padded_sequences = pad_sequences(text_tokenized_sequences, # list of int\n",
    "                                     maxlen=length, \n",
    "                                     padding='post') # pad after each sequence 'post'\n",
    "    return padded_sequences\n",
    "tests.test_pad(pad)\n",
    "\n",
    "# Pad Tokenized output\n",
    "test_pad = pad(text_tokenized_sequences)\n",
    "for sample_i, (token_sent, pad_sent) in enumerate(zip(text_tokenized_sequences, test_pad)):\n",
    "    print('Sequence {} in text_tokenized_sequences'.format(sample_i + 1))\n",
    "    print('  Input:  {}'.format(np.array(token_sent)))\n",
    "    print('  Output: {}'.format(pad_sent))"
   ]
  },
  {
   "cell_type": "markdown",
   "metadata": {},
   "source": [
    "### Preprocess Pipeline\n",
    "Building neural network architecture is the focus (so creating a pre-process pipeline is out of scope).  Instead, the implementation of `preprocess` function is provided."
   ]
  },
  {
   "cell_type": "code",
   "execution_count": 7,
   "metadata": {
    "collapsed": false
   },
   "outputs": [
    {
     "name": "stdout",
     "output_type": "stream",
     "text": [
      "Data Preprocessed\n"
     ]
    }
   ],
   "source": [
    "def preprocess(x, y):\n",
    "    \"\"\"\n",
    "    Preprocess x and y\n",
    "    :param x: Feature List of sentences\n",
    "    :param y: Label List of sentences\n",
    "    :return: Tuple of (Preprocessed x, Preprocessed y, x tokenizer, y tokenizer)\n",
    "    \"\"\"\n",
    "    preprocess_x, x_tk = tokenize(x)\n",
    "    preprocess_y, y_tk = tokenize(y)\n",
    "\n",
    "    preprocess_x = pad(preprocess_x)\n",
    "    preprocess_y = pad(preprocess_y)\n",
    "\n",
    "    # Keras's sparse_categorical_crossentropy function \n",
    "    # requires the labels to be in 3 dimensions\n",
    "    preprocess_y = preprocess_y.reshape(*preprocess_y.shape, 1)\n",
    "\n",
    "    return preprocess_x, preprocess_y, x_tk, y_tk\n",
    "\n",
    "preproc_english_sentences, preproc_french_sentences, \\\n",
    "english_tokenizer, french_tokenizer = \\\n",
    "    preprocess(english_sentences, french_sentences)\n",
    "\n",
    "print('Data Preprocessed')"
   ]
  },
  {
   "cell_type": "markdown",
   "metadata": {},
   "source": [
    "## Models\n",
    "In this section, you'll Experiment with various Neural Network Architectures.\n",
    "You'll begin training 4x Simple Architectures.\n",
    "- Model 1 is a simple RNN\n",
    "- Model 2 is a RNN with Word Embedding\n",
    "- Model 3 is a Bidirectional RNN\n",
    "- Model 4 is an optional Encoder-Decoder RNN\n",
    "\n",
    "Then you'll construct a Deeper Architecture that is designed to outperform all four models.\n",
    "\n",
    "### Word IDs back to Text\n",
    "The Neural Network will translate Input to Word IDs, which isn't the correct final form desired.  Since we want French translation, the function `logits_to_text` bridges the gap between the logits from the Neural Network to the French translation.  Use this function to better understand the Output of the Neural Network."
   ]
  },
  {
   "cell_type": "code",
   "execution_count": 8,
   "metadata": {
    "collapsed": false
   },
   "outputs": [
    {
     "name": "stdout",
     "output_type": "stream",
     "text": [
      "`logits_to_text` function loaded.\n"
     ]
    }
   ],
   "source": [
    "def logits_to_text(logits, tokenizer):\n",
    "    \"\"\"\n",
    "    Convert Logits from a Neural Network into Text using Tokenizer\n",
    "    :param logits: Logits from a Neural Network\n",
    "    :param tokenizer: Keras Tokenizer fit on the labels\n",
    "    :return: String that represents the Text of the Logits\n",
    "    \"\"\"\n",
    "    index_to_words = {id: word for word, id in tokenizer.word_index.items()}\n",
    "    index_to_words[0] ='<PAD>'\n",
    "\n",
    "    return ' '.join([index_to_words[prediction] for prediction in np.argmax(logits, 1)])\n",
    "\n",
    "print('`logits_to_text` function loaded.')"
   ]
  },
  {
   "cell_type": "markdown",
   "metadata": {},
   "source": [
    "### Model 1: RNN (IMPLEMENTATION)\n",
    "![RNN](images/rnn.png)\n",
    "A basic RNN model is a good baseline for sequence data.  In this model, you'll build a RNN that translates English to French."
   ]
  },
  {
   "cell_type": "code",
   "execution_count": 9,
   "metadata": {
    "collapsed": false
   },
   "outputs": [
    {
     "name": "stdout",
     "output_type": "stream",
     "text": [
      "_________________________________________________________________\n",
      "Layer (type)                 Output Shape              Param #   \n",
      "=================================================================\n",
      "input_2 (InputLayer)         (None, 21, 1)             0         \n",
      "_________________________________________________________________\n",
      "gru_2 (GRU)                  (None, 21, 512)           789504    \n",
      "_________________________________________________________________\n",
      "time_distributed_2 (TimeDist (None, 21, 344)           176472    \n",
      "_________________________________________________________________\n",
      "activation_2 (Activation)    (None, 21, 344)           0         \n",
      "=================================================================\n",
      "Total params: 965,976\n",
      "Trainable params: 965,976\n",
      "Non-trainable params: 0\n",
      "_________________________________________________________________\n",
      "Train on 110288 samples, validate on 27573 samples\n",
      "Epoch 1/10\n",
      "110288/110288 [==============================] - 39s - loss: 2.8076 - acc: 0.5055 - val_loss: nan - val_acc: 0.5729\n",
      "Epoch 2/10\n",
      "110288/110288 [==============================] - 38s - loss: 2.1882 - acc: 0.5882 - val_loss: nan - val_acc: 0.6015\n",
      "Epoch 3/10\n",
      "110288/110288 [==============================] - 38s - loss: 2.0230 - acc: 0.6117 - val_loss: nan - val_acc: 0.6188\n",
      "Epoch 4/10\n",
      "110288/110288 [==============================] - 38s - loss: 1.9498 - acc: 0.6239 - val_loss: nan - val_acc: 0.6294\n",
      "Epoch 5/10\n",
      "110288/110288 [==============================] - 38s - loss: 1.8978 - acc: 0.6349 - val_loss: nan - val_acc: 0.6359\n",
      "Epoch 6/10\n",
      "110288/110288 [==============================] - 38s - loss: 1.8601 - acc: 0.6411 - val_loss: nan - val_acc: 0.6454\n",
      "Epoch 7/10\n",
      "110288/110288 [==============================] - 38s - loss: 1.8315 - acc: 0.6453 - val_loss: nan - val_acc: 0.6479\n",
      "Epoch 8/10\n",
      "110288/110288 [==============================] - 38s - loss: 1.8073 - acc: 0.6497 - val_loss: nan - val_acc: 0.6526\n",
      "Epoch 9/10\n",
      "110288/110288 [==============================] - 38s - loss: 1.7839 - acc: 0.6542 - val_loss: nan - val_acc: 0.6498\n",
      "Epoch 10/10\n",
      "110288/110288 [==============================] - 38s - loss: 1.7612 - acc: 0.6598 - val_loss: nan - val_acc: 0.6586\n",
      "paris jersey est parfois parfois en mois de mai et il est en en <PAD> <PAD> <PAD> <PAD> <PAD> <PAD> <PAD>\n"
     ]
    }
   ],
   "source": [
    "\n",
    "from keras.layers import GRU, Input, Dense, TimeDistributed\n",
    "from keras.models import Model\n",
    "from keras.layers import Activation\n",
    "from keras.optimizers import Adam\n",
    "from keras.losses import sparse_categorical_crossentropy\n",
    "\n",
    "def simple_model(input_shape, output_sequence_length, english_vocab_size, french_vocab_size):\n",
    "    \"\"\"\n",
    "    Build and train a basic RNN on x and y\n",
    "    :param input_shape: Tuple of input shape\n",
    "    :param output_sequence_length: Length of output sequence\n",
    "    :param english_vocab_size: Number of unique English words in the dataset\n",
    "    :param french_vocab_size: Number of unique French words in the dataset\n",
    "    :return: Keras model built, but not trained\n",
    "    \"\"\"\n",
    "    # TODO: Build the layers\n",
    "    inputs = Input(shape=input_shape[1:])\n",
    "    x = GRU(512, return_sequences=True)(inputs)\n",
    "    x = TimeDistributed(Dense(french_vocab_size, activation=\"relu\"))(x)\n",
    "    outputs = Activation('softmax')(x)\n",
    "    model = Model(inputs=inputs, outputs=outputs)\n",
    "    \n",
    "    learning_rate = 0.001\n",
    "    \n",
    "    model.compile(loss=sparse_categorical_crossentropy,\n",
    "                  optimizer=Adam(learning_rate),\n",
    "                  metrics=['accuracy'])\n",
    "    return model\n",
    "tests.test_simple_model(simple_model)\n",
    "\n",
    "# Reshaping the input to work with a basic RNN\n",
    "tmp_x = pad(preproc_english_sentences, preproc_french_sentences.shape[1])\n",
    "tmp_x = tmp_x.reshape((-1, preproc_french_sentences.shape[-2], 1))\n",
    "\n",
    "# Train the neural network\n",
    "simple_rnn_model = simple_model(\n",
    "    tmp_x.shape,\n",
    "    preproc_french_sentences.shape[1],\n",
    "    len(english_tokenizer.word_index),\n",
    "    len(french_tokenizer.word_index))\n",
    "simple_rnn_model.summary()\n",
    "\n",
    "simple_rnn_model.fit(tmp_x, preproc_french_sentences, batch_size=1024, epochs=10, validation_split=0.2)\n",
    "\n",
    "# Print prediction(s)\n",
    "print(logits_to_text(simple_rnn_model.predict(tmp_x[:1])[0], french_tokenizer))"
   ]
  },
  {
   "cell_type": "markdown",
   "metadata": {},
   "source": [
    "### Model 2: Embedding (IMPLEMENTATION)\n",
    "![RNN](images/embedding.png)\n",
    "Previously we converted Words into Word IDs, however Word Embeddings provide better representation of Words. Word Embeddings are a Vector representation of the Word that is close to similar words in n-dimensional space, where the n represents the size of the Word Embedding vectors.\n",
    "\n",
    "In this model, you'll create a RNN model using embedding."
   ]
  },
  {
   "cell_type": "code",
   "execution_count": 10,
   "metadata": {
    "collapsed": false
   },
   "outputs": [
    {
     "name": "stdout",
     "output_type": "stream",
     "text": [
      "_________________________________________________________________\n",
      "Layer (type)                 Output Shape              Param #   \n",
      "=================================================================\n",
      "input_4 (InputLayer)         (None, 21)                0         \n",
      "_________________________________________________________________\n",
      "embedding_2 (Embedding)      (None, 21, 21)            4179      \n",
      "_________________________________________________________________\n",
      "gru_4 (GRU)                  (None, 21, 512)           820224    \n",
      "_________________________________________________________________\n",
      "time_distributed_4 (TimeDist (None, 21, 344)           176472    \n",
      "_________________________________________________________________\n",
      "activation_4 (Activation)    (None, 21, 344)           0         \n",
      "=================================================================\n",
      "Total params: 1,000,875\n",
      "Trainable params: 1,000,875\n",
      "Non-trainable params: 0\n",
      "_________________________________________________________________\n",
      "Train on 110288 samples, validate on 27573 samples\n",
      "Epoch 1/10\n",
      "110288/110288 [==============================] - 40s - loss: 3.3714 - acc: 0.4325 - val_loss: nan - val_acc: 0.4849\n",
      "Epoch 2/10\n",
      "110288/110288 [==============================] - 40s - loss: 2.5385 - acc: 0.5129 - val_loss: nan - val_acc: 0.5557\n",
      "Epoch 3/10\n",
      "110288/110288 [==============================] - 40s - loss: 1.9209 - acc: 0.5980 - val_loss: nan - val_acc: 0.6299\n",
      "Epoch 4/10\n",
      "110288/110288 [==============================] - 40s - loss: 1.6029 - acc: 0.6631 - val_loss: nan - val_acc: 0.6907\n",
      "Epoch 5/10\n",
      "110288/110288 [==============================] - 40s - loss: 1.3529 - acc: 0.7135 - val_loss: nan - val_acc: 0.7375\n",
      "Epoch 6/10\n",
      "110288/110288 [==============================] - 40s - loss: 1.1409 - acc: 0.7643 - val_loss: nan - val_acc: 0.7851\n",
      "Epoch 7/10\n",
      "110288/110288 [==============================] - 40s - loss: 0.9887 - acc: 0.7982 - val_loss: nan - val_acc: 0.8084\n",
      "Epoch 8/10\n",
      "110288/110288 [==============================] - 40s - loss: 0.8962 - acc: 0.8183 - val_loss: nan - val_acc: 0.8258\n",
      "Epoch 9/10\n",
      "110288/110288 [==============================] - 40s - loss: 0.8382 - acc: 0.8302 - val_loss: nan - val_acc: 0.8355\n",
      "Epoch 10/10\n",
      "110288/110288 [==============================] - 40s - loss: 0.7932 - acc: 0.8402 - val_loss: nan - val_acc: 0.8445\n",
      "paris jersey est parfois parfois en mois de mai et il est en en <PAD> <PAD> <PAD> <PAD> <PAD> <PAD> <PAD>\n"
     ]
    }
   ],
   "source": [
    "from keras.layers.embeddings import Embedding\n",
    "\n",
    "\n",
    "def embed_model(input_shape, output_sequence_length, english_vocab_size, french_vocab_size):\n",
    "    \"\"\"\n",
    "    Build and train a RNN model using word embedding on x and y\n",
    "    :param input_shape: Tuple of input shape\n",
    "    :param output_sequence_length: Length of output sequence\n",
    "    :param english_vocab_size: Number of unique English words in the dataset\n",
    "    :param french_vocab_size: Number of unique French words in the dataset\n",
    "    :return: Keras model built, but not trained\n",
    "    \"\"\"\n",
    "    # TODO: Implement\n",
    "    inputs = Input(shape=input_shape[1:])\n",
    "    x = Embedding(english_vocab_size, output_sequence_length)(inputs)\n",
    "    x = GRU(512, return_sequences=True)(x)\n",
    "    x = TimeDistributed(Dense(french_vocab_size, activation=\"relu\"))(x)\n",
    "    outputs = Activation('softmax')(x)\n",
    "    model = Model(inputs=inputs, outputs=outputs)\n",
    "    \n",
    "    learning_rate = 0.001\n",
    "    \n",
    "    model.compile(loss=sparse_categorical_crossentropy,\n",
    "                  optimizer=Adam(learning_rate),\n",
    "                  metrics=['accuracy'])\n",
    "    return model\n",
    "tests.test_embed_model(embed_model)\n",
    "\n",
    "\n",
    "# TODO: Reshape the input\n",
    "tmp_x = pad(preproc_english_sentences, preproc_french_sentences.shape[1])\n",
    "\n",
    "# TODO: Train the neural network\n",
    "embedding_rnn_model = embed_model(\n",
    "    tmp_x.shape,\n",
    "    preproc_french_sentences.shape[1],\n",
    "    len(english_tokenizer.word_index),\n",
    "    len(french_tokenizer.word_index))\n",
    "embedding_rnn_model.summary()\n",
    "embedding_rnn_model.fit(tmp_x, preproc_french_sentences, batch_size=1024, epochs=10, validation_split=0.2)\n",
    "\n",
    "# TODO: Print prediction(s)\n",
    "tmp_x = tmp_x.reshape((-1, preproc_french_sentences.shape[-2], 1))\n",
    "print(logits_to_text(simple_rnn_model.predict(tmp_x)[0], french_tokenizer))"
   ]
  },
  {
   "cell_type": "markdown",
   "metadata": {},
   "source": [
    "### Model 3: Bidirectional RNNs (IMPLEMENTATION)\n",
    "![RNN](images/bidirectional.png)\n",
    "One restriction of a RNN is that it can't see the future input, only the past.  This is where bidirectional recurrent neural networks come in.  They are able to see the future data."
   ]
  },
  {
   "cell_type": "code",
   "execution_count": 11,
   "metadata": {
    "collapsed": false
   },
   "outputs": [
    {
     "name": "stdout",
     "output_type": "stream",
     "text": [
      "_________________________________________________________________\n",
      "Layer (type)                 Output Shape              Param #   \n",
      "=================================================================\n",
      "input_5 (InputLayer)         (None, 21, 1)             0         \n",
      "_________________________________________________________________\n",
      "bidirectional_1 (Bidirection (None, 21, 1024)          1579008   \n",
      "_________________________________________________________________\n",
      "time_distributed_5 (TimeDist (None, 21, 344)           352600    \n",
      "_________________________________________________________________\n",
      "activation_5 (Activation)    (None, 21, 344)           0         \n",
      "=================================================================\n",
      "Total params: 1,931,608\n",
      "Trainable params: 1,931,608\n",
      "Non-trainable params: 0\n",
      "_________________________________________________________________\n",
      "Train on 110288 samples, validate on 27573 samples\n",
      "Epoch 1/10\n",
      "110288/110288 [==============================] - 39s - loss: 2.8715 - acc: 0.4937 - val_loss: nan - val_acc: 0.5539\n",
      "Epoch 2/10\n",
      "110288/110288 [==============================] - 38s - loss: 2.3254 - acc: 0.5658 - val_loss: nan - val_acc: 0.5770\n",
      "Epoch 3/10\n",
      "110288/110288 [==============================] - 38s - loss: 2.2272 - acc: 0.5824 - val_loss: nan - val_acc: 0.5877\n",
      "Epoch 4/10\n",
      "110288/110288 [==============================] - 38s - loss: 2.1749 - acc: 0.5888 - val_loss: nan - val_acc: 0.5916\n",
      "Epoch 5/10\n",
      "110288/110288 [==============================] - 38s - loss: 2.1329 - acc: 0.5979 - val_loss: nan - val_acc: 0.6024\n",
      "Epoch 6/10\n",
      "110288/110288 [==============================] - 38s - loss: 2.0990 - acc: 0.6042 - val_loss: nan - val_acc: 0.6090\n",
      "Epoch 7/10\n",
      "110288/110288 [==============================] - 38s - loss: 2.0728 - acc: 0.6091 - val_loss: nan - val_acc: 0.6112\n",
      "Epoch 8/10\n",
      "110288/110288 [==============================] - 38s - loss: 2.0497 - acc: 0.6134 - val_loss: nan - val_acc: 0.6241\n",
      "Epoch 9/10\n",
      "110288/110288 [==============================] - 38s - loss: 2.0271 - acc: 0.6198 - val_loss: nan - val_acc: 0.6162\n",
      "Epoch 10/10\n",
      "110288/110288 [==============================] - 38s - loss: 2.0081 - acc: 0.6252 - val_loss: nan - val_acc: 0.6274\n",
      "new jersey est généralement humide en l' et il est il est en <PAD> <PAD> <PAD> <PAD> <PAD> <PAD> <PAD> <PAD>\n"
     ]
    }
   ],
   "source": [
    "from keras.layers import Bidirectional\n",
    "\n",
    "\n",
    "def bd_model(input_shape, output_sequence_length, english_vocab_size, french_vocab_size):\n",
    "    \"\"\"\n",
    "    Build and train a bidirectional RNN model on x and y\n",
    "    :param input_shape: Tuple of input shape\n",
    "    :param output_sequence_length: Length of output sequence\n",
    "    :param english_vocab_size: Number of unique English words in the dataset\n",
    "    :param french_vocab_size: Number of unique French words in the dataset\n",
    "    :return: Keras model built, but not trained\n",
    "    \"\"\"\n",
    "    # TODO: Implement\n",
    "    inputs = Input(shape=input_shape[1:])\n",
    "    x = Bidirectional(GRU(512, return_sequences=True))(inputs)\n",
    "    x = TimeDistributed(Dense(french_vocab_size, activation=\"relu\"))(x)\n",
    "    outputs = Activation('softmax')(x)\n",
    "    model = Model(inputs=inputs, outputs=outputs)\n",
    "    \n",
    "    learning_rate = 0.001\n",
    "    \n",
    "    model.compile(loss=sparse_categorical_crossentropy,\n",
    "                  optimizer=Adam(learning_rate),\n",
    "                  metrics=['accuracy'])\n",
    "    model.summary()\n",
    "    return model\n",
    "tests.test_bd_model(bd_model)\n",
    "\n",
    "\n",
    "# TODO: Train and Print prediction(s)\n",
    "\n",
    "# Reshaping the input to work with a basic RNN\n",
    "tmp_x = pad(preproc_english_sentences, preproc_french_sentences.shape[1])\n",
    "tmp_x = tmp_x.reshape((-1, preproc_french_sentences.shape[-2], 1))\n",
    "\n",
    "# Train the neural network\n",
    "simple_rnn_model = simple_model(\n",
    "    tmp_x.shape,\n",
    "    preproc_french_sentences.shape[1],\n",
    "    len(english_tokenizer.word_index),\n",
    "    len(french_tokenizer.word_index))\n",
    "simple_rnn_model.fit(tmp_x, preproc_french_sentences, batch_size=1024, epochs=10, validation_split=0.2)\n",
    "\n",
    "# Print prediction(s)\n",
    "print(logits_to_text(simple_rnn_model.predict(tmp_x[:1])[0], french_tokenizer))"
   ]
  },
  {
   "cell_type": "markdown",
   "metadata": {},
   "source": [
    "### Model 5: Custom (IMPLEMENTATION)\n",
    "Use everything you learned from the previous models to create a model that incorporates embedding and a bidirectional rnn into one model."
   ]
  },
  {
   "cell_type": "code",
   "execution_count": 13,
   "metadata": {
    "collapsed": false
   },
   "outputs": [
    {
     "name": "stdout",
     "output_type": "stream",
     "text": [
      "(137861, 15) 21 199 344\n",
      "_________________________________________________________________\n",
      "Layer (type)                 Output Shape              Param #   \n",
      "=================================================================\n",
      "input_7 (InputLayer)         (None, 15)                0         \n",
      "_________________________________________________________________\n",
      "embedding_3 (Embedding)      (None, 15, 21)            4179      \n",
      "_________________________________________________________________\n",
      "bidirectional_2 (Bidirection (None, 1024)              1640448   \n",
      "_________________________________________________________________\n",
      "repeat_vector_1 (RepeatVecto (None, 21, 1024)          0         \n",
      "_________________________________________________________________\n",
      "bidirectional_3 (Bidirection (None, 21, 1024)          4721664   \n",
      "_________________________________________________________________\n",
      "time_distributed_7 (TimeDist (None, 21, 344)           352600    \n",
      "_________________________________________________________________\n",
      "activation_7 (Activation)    (None, 21, 344)           0         \n",
      "=================================================================\n",
      "Total params: 6,718,891\n",
      "Trainable params: 6,718,891\n",
      "Non-trainable params: 0\n",
      "_________________________________________________________________\n",
      "Final Model Loaded\n"
     ]
    }
   ],
   "source": [
    "from keras.layers import RepeatVector\n",
    "\n",
    "def model_final(input_shape, output_sequence_length, english_vocab_size, french_vocab_size):\n",
    "    \"\"\"\n",
    "    Build and train a model that incorporates embedding, encoder-decoder, and bidirectional RNN on x and y\n",
    "    :param input_shape: Tuple of input shape\n",
    "    :param output_sequence_length: Length of output sequence\n",
    "    :param english_vocab_size: Number of unique English words in the dataset\n",
    "    :param french_vocab_size: Number of unique French words in the dataset\n",
    "    :return: Keras model built, but not trained\n",
    "    \"\"\"\n",
    "    # TODO: Implement\n",
    "    print(input_shape, output_sequence_length, english_vocab_size, french_vocab_size)\n",
    "    inputs = Input(shape=input_shape[1:])\n",
    "    x = Embedding(english_vocab_size, output_sequence_length)(inputs)\n",
    "    x = Bidirectional(GRU(512))(x)\n",
    "    x = RepeatVector(output_sequence_length)(x)\n",
    "    x = Bidirectional(GRU(512, return_sequences=True))(x)\n",
    "    x = TimeDistributed(Dense(french_vocab_size, activation=\"relu\"))(x)\n",
    "    outputs = Activation('softmax')(x)\n",
    "    model = Model(inputs=inputs, outputs=outputs)\n",
    "\n",
    "    learning_rate = 0.001\n",
    "    \n",
    "    model.compile(loss=sparse_categorical_crossentropy,\n",
    "                  optimizer=Adam(learning_rate),\n",
    "                  metrics=['accuracy'])    \n",
    "    model.summary()\n",
    "    return model\n",
    "tests.test_model_final(model_final)\n",
    "\n",
    "print('Final Model Loaded')"
   ]
  },
  {
   "cell_type": "markdown",
   "metadata": {},
   "source": [
    "## Prediction (IMPLEMENTATION)"
   ]
  },
  {
   "cell_type": "code",
   "execution_count": 14,
   "metadata": {
    "collapsed": false
   },
   "outputs": [
    {
     "name": "stdout",
     "output_type": "stream",
     "text": [
      "(137861, 15) 21 199 344\n",
      "_________________________________________________________________\n",
      "Layer (type)                 Output Shape              Param #   \n",
      "=================================================================\n",
      "input_8 (InputLayer)         (None, 15)                0         \n",
      "_________________________________________________________________\n",
      "embedding_4 (Embedding)      (None, 15, 21)            4179      \n",
      "_________________________________________________________________\n",
      "bidirectional_4 (Bidirection (None, 1024)              1640448   \n",
      "_________________________________________________________________\n",
      "repeat_vector_2 (RepeatVecto (None, 21, 1024)          0         \n",
      "_________________________________________________________________\n",
      "bidirectional_5 (Bidirection (None, 21, 1024)          4721664   \n",
      "_________________________________________________________________\n",
      "time_distributed_8 (TimeDist (None, 21, 344)           352600    \n",
      "_________________________________________________________________\n",
      "activation_8 (Activation)    (None, 21, 344)           0         \n",
      "=================================================================\n",
      "Total params: 6,718,891\n",
      "Trainable params: 6,718,891\n",
      "Non-trainable params: 0\n",
      "_________________________________________________________________\n",
      "Train on 110288 samples, validate on 27573 samples\n",
      "Epoch 1/10\n",
      "110288/110288 [==============================] - 166s - loss: 3.0861 - acc: 0.4575 - val_loss: nan - val_acc: 0.5048\n",
      "Epoch 2/10\n",
      "110288/110288 [==============================] - 165s - loss: 2.2710 - acc: 0.5427 - val_loss: nan - val_acc: 0.5876\n",
      "Epoch 3/10\n",
      "110288/110288 [==============================] - 165s - loss: 1.9715 - acc: 0.6035 - val_loss: nan - val_acc: 0.6287\n",
      "Epoch 4/10\n",
      "110288/110288 [==============================] - 165s - loss: 1.8677 - acc: 0.6319 - val_loss: nan - val_acc: 0.6572\n",
      "Epoch 5/10\n",
      "110288/110288 [==============================] - 166s - loss: 1.7326 - acc: 0.6673 - val_loss: nan - val_acc: 0.6798\n",
      "Epoch 6/10\n",
      "110288/110288 [==============================] - 165s - loss: 1.6726 - acc: 0.6806 - val_loss: nan - val_acc: 0.5528\n",
      "Epoch 7/10\n",
      "110288/110288 [==============================] - 165s - loss: 1.6166 - acc: 0.6873 - val_loss: nan - val_acc: 0.7070\n",
      "Epoch 8/10\n",
      "110288/110288 [==============================] - 165s - loss: 1.4977 - acc: 0.7126 - val_loss: nan - val_acc: 0.7199\n",
      "Epoch 9/10\n",
      "110288/110288 [==============================] - 165s - loss: 1.4276 - acc: 0.7307 - val_loss: nan - val_acc: 0.7374\n",
      "Epoch 10/10\n",
      "110288/110288 [==============================] - 166s - loss: 1.3714 - acc: 0.7443 - val_loss: nan - val_acc: 0.7502\n",
      "new france est parfois agréable à l' et et il est il en en <PAD> <PAD> <PAD> <PAD> <PAD> <PAD> <PAD>\n",
      "Sample 1:\n",
      "il il pas la et les <PAD> <PAD> <PAD> <PAD> <PAD> <PAD> <PAD> <PAD> <PAD> <PAD> <PAD> <PAD> <PAD> <PAD> <PAD>\n",
      "Il a vu un vieux camion jaune\n",
      "Sample 2:\n",
      "new france est parfois agréable à l' et et il est il en en <PAD> <PAD> <PAD> <PAD> <PAD> <PAD> <PAD>\n",
      "<PAD> <PAD> <PAD> <PAD> <PAD> <PAD> <PAD> <PAD> <PAD> <PAD> <PAD> <PAD> <PAD> <PAD> <PAD> <PAD> <PAD> <PAD> <PAD> <PAD> <PAD>\n"
     ]
    }
   ],
   "source": [
    "import numpy as np\n",
    "from keras.preprocessing.sequence import pad_sequences\n",
    "\n",
    "def final_predictions(x, y, x_tk, y_tk):\n",
    "    \"\"\"\n",
    "    Gets predictions using the final model\n",
    "    :param x: Preprocessed English data\n",
    "    :param y: Preprocessed French data\n",
    "    :param x_tk: English tokenizer\n",
    "    :param y_tk: French tokenizer\n",
    "    \"\"\"\n",
    "    # Train neural network using model_final\n",
    "    model = model_final(\n",
    "        x.shape, #tmp_x.shape, # x.shape,\n",
    "        y.shape[1], # preproc_french_sentences.shape[1],\n",
    "        len(x_tk.word_index), # len(english_tokenizer.word_index),\n",
    "        len(y_tk.word_index), # len(french_tokenizer.word_index)\n",
    "    )\n",
    "    \n",
    "    model.fit(\n",
    "        x, # tmp_x, # x\n",
    "        y, # preproc_french_sentences, \n",
    "        batch_size=1024, \n",
    "        epochs=10, \n",
    "        validation_split=0.2\n",
    "    )\n",
    "\n",
    "    # Print prediction(s)\n",
    "    print(logits_to_text(model.predict(x[:1])[0], y_tk))\n",
    "\n",
    "    ## DON'T EDIT ANYTHING BELOW THIS LINE\n",
    "    y_id_to_word = {value: key for key, value in y_tk.word_index.items()}\n",
    "    y_id_to_word[0] = '<PAD>'\n",
    "\n",
    "    sentence = 'he saw a old yellow truck'\n",
    "    sentence = [x_tk.word_index[word] for word in sentence.split()]\n",
    "    sentence = pad_sequences([sentence], maxlen=x.shape[-1], padding='post')\n",
    "    sentences = np.array([sentence[0], x[0]])\n",
    "    predictions = model.predict(sentences, len(sentences))\n",
    "\n",
    "    print('Sample 1:')\n",
    "    print(' '.join([y_id_to_word[np.argmax(x)] for x in predictions[0]]))\n",
    "    print('Il a vu un vieux camion jaune')\n",
    "    print('Sample 2:')\n",
    "    print(' '.join([y_id_to_word[np.argmax(x)] for x in predictions[1]]))\n",
    "    print(' '.join([y_id_to_word[np.argmax(x)] for x in y[0]]))\n",
    "\n",
    "\n",
    "final_predictions(preproc_english_sentences, preproc_french_sentences, english_tokenizer, french_tokenizer)"
   ]
  },
  {
   "cell_type": "markdown",
   "metadata": {},
   "source": [
    "## Submission\n",
    "When you are ready to submit your project, do the following steps:\n",
    "1. Ensure you pass all points on the [rubric](https://review.udacity.com/#!/rubrics/1004/view).\n",
    "2. Submit the following in a zip file.\n",
    "  - `helper.py`\n",
    "  - `machine_translation.ipynb`\n",
    "  - `machine_translation.html`\n",
    "    - You can export the notebook by navigating to **File -> Download as -> HTML (.html)**."
   ]
  }
 ],
 "metadata": {
  "kernelspec": {
   "display_name": "Python [default]",
   "language": "python",
   "name": "python3"
  },
  "language_info": {
   "codemirror_mode": {
    "name": "ipython",
    "version": 3
   },
   "file_extension": ".py",
   "mimetype": "text/x-python",
   "name": "python",
   "nbconvert_exporter": "python",
   "pygments_lexer": "ipython3",
   "version": "3.5.2"
  }
 },
 "nbformat": 4,
 "nbformat_minor": 1
}
